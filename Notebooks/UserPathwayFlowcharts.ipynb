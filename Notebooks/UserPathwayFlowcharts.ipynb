{
 "cells": [
  {
   "cell_type": "markdown",
   "metadata": {},
   "source": [
    "# BioEquity Insight System Flow Diagrams\n",
    "\n",
    "In order to map out the key use cases of our application, we've created several flowcharts using mermaid. These diagrams illustrate how BioEquity Insight processes user queries about biotech stocks and generates insights by leveraging multiple data sources and AI-powered analysis.\n",
    "\n",
    "In these diagrams:\n",
    "- **User**: The person interacting with the application\n",
    "- **BioEquity**: Our AI biotech stock analysis system\n",
    "- **Yahoo Finance**: External API for retrieving financial data\n",
    "- **Google Search**: External API for finding recent biotech catalysts\n",
    "- **AI Analysis**: Our LLM-powered analysis component\n",
    "- **Visualization**: Our chart generation system"
   ]
  },
  {
   "cell_type": "code",
   "execution_count": 1,
   "id": "8751fd63",
   "metadata": {},
   "outputs": [],
   "source": [
    "import sys\n",
    "import base64\n",
    "import zlib\n",
    "from IPython.display import Image,display,SVG\n",
    "def mm(diagram):\n",
    "    encoded_diagram = base64.urlsafe_b64encode(zlib.compress(diagram.encode('utf-8'), 9)).decode('ascii')\n",
    "    dia_url = f'https://kroki.io/mermaid/svg/{encoded_diagram}'\n",
    "    display(Image(url=dia_url))"
   ]
  },
  {
   "cell_type": "markdown",
   "metadata": {},
   "source": [
    "## Single Stock Analysis Flow"
   ]
  },
  {
   "cell_type": "code",
   "execution_count": 10,
   "metadata": {
    "language": "mermaid"
   },
   "outputs": [
    {
     "data": {
      "text/html": [
       "<img src=\"https://kroki.io/mermaid/svg/eNp9k0Fu20AMRfc5BXfdtBfwIoFbJ44XaYEUDdAlO6I9hKWhQ1J2lNOXkurUioBopwH5-f7nzJXRc0sl0Ypxp9hcQXy_jPTL9fVXltvnlr1bwL2cIKPBw-P35ScDc0l7OJBuRRuqwDgUwDOxwrcfT5sVHDElLgR4OKgcsb4ZhN8UQ325gWXBujO2Bdy-uGJycE57UrCu-SO1wValgeDTbmi_aJni9VizAb8xi8AdFwy4BazJYTv8MNZQoSME_f_WSflU_pG81WKQpDkoZSrGR3onNhu_FtnVBD8JNeVFL1yBUqLikKI-XLiNBFKRllFg0jSFuFst39K0z5BqLpxiuCsPB4VO9nHIayqk6AQcBnY5xksZ_J832Tv_OOjzKch2egn61rBXh3wFLrP9z8ie2Fqs-RWdpVywpYzqYFlOXHb_6JRDHFXaiPAs2Ic-wk6Uprib4tTfq35dI-4of2LPsKcO6Bj7mMfWP4ALs0P5-9DiGVx6H5_AzPZfdxIqhg==\"/>"
      ],
      "text/plain": [
       "<IPython.core.display.Image object>"
      ]
     },
     "metadata": {},
     "output_type": "display_data"
    }
   ],
   "source": [
    "sequenceDiagram = '''\n",
    "sequenceDiagram\n",
    "    User->>BioEquity: How has MRNA's stock performed since their COVID vaccine approval?\n",
    "    BioEquity->>AI Analysis: Extract ticker symbols from query\n",
    "    AI Analysis->>BioEquity: MRNA\n",
    "    BioEquity->>Yahoo Finance: Get financial data for MRNA\n",
    "    Yahoo Finance->>BioEquity: Returns comprehensive financial data\n",
    "    BioEquity->>Google Search: Find recent catalysts for Moderna\n",
    "    Google Search->>BioEquity: FDA approvals, clinical trials, news\n",
    "    BioEquity->>AI Analysis: Generate insights on MRNA performance\n",
    "    AI Analysis->>BioEquity: Analysis of stock performance related to vaccine approval\n",
    "    BioEquity->>Visualization: Generate chart showing MRNA price around approval date\n",
    "    Visualization->>BioEquity: Interactive stock chart with key events\n",
    "    BioEquity->>User: Analysis with insights on MRNA's performance since vaccine approval\n",
    "'''\n",
    "mm(sequenceDiagram)"
   ]
  },
  {
   "cell_type": "markdown",
   "metadata": {},
   "source": [
    "## Comparative Analysis Flow"
   ]
  },
  {
   "cell_type": "code",
   "execution_count": 6,
   "metadata": {
    "language": "mermaid"
   },
   "outputs": [
    {
     "data": {
      "text/html": [
       "<img src=\"https://kroki.io/mermaid/svg/eNqdlM1O40AMx-88hY-LRF-gByRguxWX1ap8aDm6EzexSGaC7RSyT48zlaqOCgtqpCgfY__9s8fjM6WXgWKgn4y1YHcGfj0oyezy8prT4mVgG-dwk7oeheBxdf8XMFawWix_g1oKz9CTbJJ06CLAEawhkMm2YiVUAu0xUNbdC7r41S1cRWxHZZ3D4s0Eg4FxeCYBHbt1ahU2kjpwPBmz-4FLSTdRXWSkozBP2KQEvzhOeHNYksEmfzC2UKEhOHsWyK6FeRlkRTZI1F0JSo0To-6BvxE11_uLqMuU6pbgjlBCM5_0KhAKFA2C23vhTHfpkhi9wZ8GfdsCDV52bDXrFRrHVT4Q-mHiJHoB2PeStvk10quen861opoiSYpfoeRqnIJSdN1yCoZGEHJ3o_GWvLl3y5A2Zbf_vwVvPpJouG5av41j7Rm3u2U1oVhbo0d0j6wDtvzP7VL8hC_4ptm-aUu6wr_ku-OKZutxpv4sTuz20OeIaJoEnyT3ytb4edcpP69WhHXyHxk1Muk0Cj4YA--v54YH\"/>"
      ],
      "text/plain": [
       "<IPython.core.display.Image object>"
      ]
     },
     "metadata": {},
     "output_type": "display_data"
    }
   ],
   "source": [
    "sequenceDiagram = '''\n",
    "sequenceDiagram\n",
    "    User->>BioEquity: Compare VRTX and REGN stock performance in the rare disease space\n",
    "    BioEquity->>AI Analysis: Extract ticker symbols from query\n",
    "    AI Analysis->>BioEquity: VRTX, REGN\n",
    "    BioEquity->>Yahoo Finance: Get financial data for VRTX\n",
    "    Yahoo Finance->>BioEquity: Returns VRTX financial data\n",
    "    BioEquity->>Yahoo Finance: Get financial data for REGN\n",
    "    Yahoo Finance->>BioEquity: Returns REGN financial data\n",
    "    BioEquity->>Google Search: Find recent catalysts for Vertex Pharmaceuticals\n",
    "    Google Search->>BioEquity: VRTX catalysts (trials, approvals, news)\n",
    "    BioEquity->>Google Search: Find recent catalysts for Regeneron\n",
    "    Google Search->>BioEquity: REGN catalysts (trials, approvals, news)\n",
    "    BioEquity->>AI Analysis: Generate comparative analysis of VRTX and REGN\n",
    "    AI Analysis->>BioEquity: Comparative analysis highlighting relative strengths\n",
    "    BioEquity->>Visualization: Generate comparative chart for VRTX and REGN\n",
    "    Visualization->>BioEquity: Side-by-side performance visualization\n",
    "    BioEquity->>User: Comparative analysis with insights on both companies in rare disease space\n",
    "'''\n",
    "mm(sequenceDiagram)"
   ]
  },
  {
   "cell_type": "markdown",
   "metadata": {},
   "source": [
    "## Technical Analysis Request Flow"
   ]
  },
  {
   "cell_type": "code",
   "execution_count": 5,
   "metadata": {
    "language": "mermaid"
   },
   "outputs": [
    {
     "data": {
      "text/html": [
       "<img src=\"https://kroki.io/mermaid/svg/eNp9k8FO5DAMhu88hR-AFfc5gFgBIyROwC7i6Endxpo0HmJ3oDw9brSLWmagUhUp6f_59-_0ROlloBzoirEr2J-AP3-Uyq_z898s1y8D27iCp4gGWAgs-kshZg6YgHPjq0lR0KHrSI1zB60UWN_eXYGahO1FRX6ynHt5C5cZ06isK7h-s4LBwDhsqYCO_UaSQlukB3dWxiqfSZbGpjoHBZ4xisANZ_TG_BsyCNLvEhlBZHdVqvsGDT_NVshCuCx0TzaUrHP9zhcCzA3sJQ09VeCBmbVIlwgeCEuIqwneQKFA2SDTqwK2LYWa25oTYQMPgaeBaCUt1EtHd2geOHj-UzCmy1a-DXxNmYpLZ2PEf4fwyhZnQ_05-v-7IC30sp86wL2j_Rqc-kbvHQ79jHZao9Jht5NiZ4VcalPOkGhPSQ9c_2UdMPE7Gks-6jtELHbU9EK7tP142PaMs6XxK2vuafozjiKq2O-xl8OND4yzchd9KBtUakDynPoBBik1OA==\"/>"
      ],
      "text/plain": [
       "<IPython.core.display.Image object>"
      ]
     },
     "metadata": {},
     "output_type": "display_data"
    }
   ],
   "source": [
    "sequenceDiagram = '''\n",
    "sequenceDiagram\n",
    "    User->>BioEquity: What are the technical indicators suggesting for GILD stock?\n",
    "    BioEquity->>AI Analysis: Extract ticker symbols from query\n",
    "    AI Analysis->>BioEquity: GILD\n",
    "    BioEquity->>Yahoo Finance: Get complete historical data for GILD\n",
    "    Yahoo Finance->>BioEquity: Returns historical price and volume data\n",
    "    BioEquity->>Google Search: Find recent news affecting Gilead Sciences\n",
    "    Google Search->>BioEquity: Latest catalysts for GILD\n",
    "    BioEquity->>AI Analysis: Generate technical analysis with indicators\n",
    "    AI Analysis->>BioEquity: Analysis of moving averages, momentum indicators, and support/resistance levels\n",
    "    BioEquity->>Visualization: Generate technical chart with indicators\n",
    "    Visualization->>BioEquity: Technical analysis chart with key indicators\n",
    "    BioEquity->>User: Technical analysis with actionable insights based on indicators\n",
    "'''\n",
    "mm(sequenceDiagram)"
   ]
  },
  {
   "cell_type": "markdown",
   "metadata": {},
   "source": [
    "## Error Handling Flow"
   ]
  },
  {
   "cell_type": "code",
   "execution_count": 8,
   "metadata": {
    "language": "mermaid"
   },
   "outputs": [
    {
     "data": {
      "text/html": [
       "<img src=\"https://kroki.io/mermaid/svg/eNq1k8lu20AMhu95Ct5yqfMAOqSw09TIoUXRoClypEeURWQ0dMhRUPXpS8mGZXlBcqkuowX8_gXUldFrSynQF8a1YnMFfv0y0tnt7YLl_rXl3BXwu-ZQw4olk59Bmg0mJgNUgkhYcloDJ5AUJMq6g6yEuaGU7fNA3KMcO3-AecLYGVsB93-yYsiQObyQgnXNSqJBpdKAG9NuGD8Ymfr6LmAbClxx2CF8VtpUnqj2mQp4cO9tLNN1Bi7dHlcdYOrAsoSXPcGTdNIqaN-N5Rv44RmNoA_EkkbJsQjRHWOX4OZCkXf9hJc2XyyeXLmExbfnC8391-J6_U-9-InKM9Yi8JUT-lYUsKQM1fDAGKHEjF6wTvwPiMnYVOsn5VaTHWFOhJci60jwSKihLnpUua9lphQxUwnBJz1OtsHFSvLBNg7ECeXYR_Bex6pLeqMomw-UvaRE6vpbLb_jNxo5G9FcSWTxQrYT73S_ewtSHSW4HqFoRmdsPbG1GPkv9ov4njH1gKn1jzVqHlCT8amrR_8hZqtuZn6ey7ZVYJN04d-6O7CABxEnq35uz_8BA6mSXg==\"/>"
      ],
      "text/plain": [
       "<IPython.core.display.Image object>"
      ]
     },
     "metadata": {},
     "output_type": "display_data"
    }
   ],
   "source": [
    "sequenceDiagram = '''\n",
    "sequenceDiagram\n",
    "    User->>BioEquity: Which biotech companies are leading in oncology treatments?\n",
    "    BioEquity->>AI Analysis: Extract ticker symbols from query\n",
    "    AI Analysis->>BioEquity: No specific tickers found\n",
    "    BioEquity->>User: I couldn't identify any stock tickers in your request. Please mention specific companies or stock symbols.\n",
    "    User->>BioEquity: Compare ABBV and BMY in oncology treatments\n",
    "    BioEquity->>AI Analysis: Extract ticker symbols from query\n",
    "    AI Analysis->>BioEquity: ABBV, BMY\n",
    "    BioEquity->>Yahoo Finance: Get financial data for ABBV and BMY\n",
    "    Yahoo Finance->>BioEquity: Returns financial data\n",
    "    BioEquity->>Google Search: Find oncology-related catalysts for both companies\n",
    "    Google Search->>BioEquity: Recent oncology developments\n",
    "    BioEquity->>AI Analysis: Generate comparative oncology portfolio analysis\n",
    "    AI Analysis->>BioEquity: Analysis of both companies' oncology assets\n",
    "    BioEquity->>Visualization: Generate comparative oncology revenue chart\n",
    "    Visualization->>BioEquity: Side-by-side oncology portfolio comparison\n",
    "    BioEquity->>User: Comparative analysis of ABBV and BMY oncology treatments\n",
    "'''\n",
    "mm(sequenceDiagram)"
   ]
  },
  {
   "cell_type": "markdown",
   "metadata": {},
   "source": [
    "## FDA Approval Impact Analysis"
   ]
  },
  {
   "cell_type": "code",
   "execution_count": 9,
   "metadata": {
    "language": "mermaid"
   },
   "outputs": [
    {
     "data": {
      "text/html": [
       "<img src=\"https://kroki.io/mermaid/svg/eNp9k09v2zAMxe_5FLztNPSeQ4dk_bNcN2zAjoxN20Qk0aXodMmnHyWkRYSgNWBANsDH33sUV5leFkodPTCOinEF_vzOpF_v77csjy8L22kNP-QVeu7BJoKnhw3gPKscMcAgCtvdbvslwyacJ-JI6udelxFwGKizUsMK2aQ7wKzc0bfa5F3dO212sEkYTpnzGh7_mWKp4-5AXniKewkZBpUIzqqnWn5V0qIWmpsGf3ESgSdO6FbX8EwGncQ5kBFM7GzO5W56NHy3VEWawrbRT7JFU76ur_aqyg3Bs8gYCH4Rajeti2IPnLxXRGNJgHtZ7OMoL3lX2UaqZWpm4xwE6H16MuSQP4-9ns70NijSyuauAVUWV2l0P5_B21-Q4ZJJlCNFSuafdDdLttbSNdUfzgsGPtdcyqwSaXHSTajmaY9T8Nc4jRftD_kapZbwexV7ZZvazOhYICPqgfobsrIXrbnJ96LM7JKakl9c8jWR202pvfbkqdIdDuY3O5I5f179B5tONhY=\"/>"
      ],
      "text/plain": [
       "<IPython.core.display.Image object>"
      ]
     },
     "metadata": {},
     "output_type": "display_data"
    }
   ],
   "source": [
    "sequenceDiagram = '''\n",
    "sequenceDiagram\n",
    "    User->>BioEquity: How did the FDA approval for BIIB's Alzheimer's drug affect their stock price?\n",
    "    BioEquity->>AI Analysis: Extract ticker symbols from query\n",
    "    AI Analysis->>BioEquity: BIIB\n",
    "    BioEquity->>Yahoo Finance: Get complete historical data for BIIB\n",
    "    Yahoo Finance->>BioEquity: Returns historical price data\n",
    "    BioEquity->>Google Search: Find information about BIIB's Alzheimer's drug approval\n",
    "    Google Search->>BioEquity: FDA approval date and details\n",
    "    BioEquity->>AI Analysis: Analyze stock performance around approval date\n",
    "    AI Analysis->>BioEquity: Analysis of price movement pre/post approval\n",
    "    BioEquity->>Visualization: Generate chart highlighting price around approval date\n",
    "    Visualization->>BioEquity: Chart with FDA approval event marked\n",
    "    BioEquity->>User: Analysis of how BIIB stock reacted to the FDA approval with before/after metrics\n",
    "'''\n",
    "mm(sequenceDiagram)"
   ]
  },
  {
   "cell_type": "markdown",
   "metadata": {},
   "source": [
    "These sequence diagrams illustrate the core functionality of BioEquity Insight, showing how our system processes different types of biotech stock analysis requests and leverages multiple data sources to provide comprehensive insights."
   ]
  }
 ],
 "metadata": {
  "kernelspec": {
   "display_name": "base",
   "language": "python",
   "name": "python3"
  },
  "language_info": {
   "codemirror_mode": {
    "name": "ipython",
    "version": 3
   },
   "file_extension": ".py",
   "mimetype": "text/x-python",
   "name": "python",
   "nbconvert_exporter": "python",
   "pygments_lexer": "ipython3",
   "version": "3.12.7"
  }
 },
 "nbformat": 4,
 "nbformat_minor": 5
}
