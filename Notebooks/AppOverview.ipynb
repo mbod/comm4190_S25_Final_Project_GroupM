{
    "cells": [
        {
            "cell_type": "markdown",
            "metadata": {},
            "source": [
                "# Outlining our Model + Its Prompting\n",
                "\n",
                "## Defining BioEquity Insight's Functionalities\n",
                "\n",
                "Given our focus on biotechnology stock analysis, our application is designed to analyze specific biotech stocks rather than perform general sector research. Users must specify company names or ticker symbols for the analysis to function correctly.\n",
                "\n",
                "### User Pathways\n",
                "\n",
                "Below are typical user pathways for our application:\n",
                "\n",
                "1. A user interested in a specific biotech company's stock performance after a recent FDA approval. They can ask about MRNA (Moderna) following their vaccine authorization.\n",
                "\n",
                "2. An investor wanting to compare multiple biotech stocks within the same therapeutic area. They might ask for comparative analysis between VRTX (Vertex) and BMRN (BioMarin) in rare disease treatments.\n",
                "\n",
                "3. A user seeking insight into how a recent clinical trial result has affected a biotech stock's valuation. They could ask about REGN (Regeneron) following specific trial data publication.\n",
                "\n",
                "4. A long-term investor wanting to understand the technical indicators and dividend history of an established biotech company like AMGN (Amgen)."
            ]
        },
        {
            "cell_type": "markdown",
            "metadata": {},
            "source": [
                "## Sample Questions for BioEquity Insight\n",
                "\n",
                "Below are appropriate questions for our model, all containing specific company names or ticker symbols:\n",
                "\n",
                "- How has MRNA's stock performed since their COVID vaccine approval?\n",
                "- Compare the stock performance of VRTX and REGN over the past year.\n",
                "- What are the upcoming catalysts for GILD based on recent news?\n",
                "- How did the FDA approval for BIIB's Alzheimer's drug affect their stock price?\n",
                "- What is the financial outlook for AMGN based on their pipeline and recent performance?\n",
                "- How does PFE's biotech division compare to dedicated biotech companies like MRNA?\n",
                "- Analyze recent performance metrics for GILD and provide key insights.\n",
                "- What are the technical indicators suggesting for REGN stock?\n",
                "- Has NVAX recovered from their vaccine development setbacks?\n",
                "- Compare the dividend history of AMGN and ABBV."
            ]
        },
        {
            "cell_type": "markdown",
            "metadata": {},
            "source": [
                "## Key Functions of BioEquity Insight\n",
                "\n",
                "Our application performs these core functions when provided with specific ticker symbols:\n",
                "\n",
                "- Retrieves comprehensive financial data from Yahoo Finance for specified biotech stocks\n",
                "- Searches for recent biotech-specific news and regulatory catalysts using Google Custom Search\n",
                "- Analyzes how catalysts like FDA decisions and clinical trial results have affected stock performance\n",
                "- Generates customized visualizations showing relevant metrics for user queries\n",
                "- Compares multiple biotech companies' metrics side-by-side when multiple tickers are specified\n",
                "- Provides in-depth analysis combining financial data with biotech-specific context"
            ]
        },
        {
            "cell_type": "markdown",
            "metadata": {},
            "source": [
                "## Creating the Tool's Prompting\n",
                "\n",
                "To establish our agent's prompting, we use a structured framework:\n",
                "\n",
                "### Goal:\n",
                "This is a biotech stock analysis exercise in which you play the role of AI biotech investment analyst. You will help users analyze specific biotechnology stocks by providing data-driven insights on companies they explicitly mention. Your goal is to connect scientific developments with their financial implications for particular biotech stocks.\n",
                "\n",
                "### Persona:\n",
                "You function as a knowledgeable and precise biotech analyst, offering specialized insight while maintaining scientific accuracy. You confidently analyze specific biotech stocks that users mention, always ensuring users understand the inherent volatility in this sector.\n",
                "\n",
                "### Narrative:\n",
                "The user interacts with BioEquity Insight by asking about specific biotech companies or ticker symbols. You identify these companies, gather relevant financial data and recent catalysts, and provide insightful analysis combining financial metrics with biotech-specific context. You generate visualizations highlighting relevant trends for the specified stocks."
            ]
        },
        {
            "cell_type": "markdown",
            "metadata": {},
            "source": [
                "### Steps to Follow:\n",
                "\n",
                "#### Step One: Identify Specific Companies and Gather Information\n",
                "You should do this →\n",
                "- Introduce yourself as BioEquity Insight, a specialized AI analyst focused on biotechnology stocks\n",
                "- Extract ticker symbols from the user's query (Companies mentioned)\n",
                "- For identified tickers, retrieve comprehensive financial data and recent catalysts\n",
                "- Prepare relevant visualizations based on the specified companies\n",
                "\n",
                "Don't do this →\n",
                "- Attempt to answer general sector questions without specific tickers\n",
                "- Provide analysis for companies not explicitly mentioned by the user"
            ]
        },
        {
            "cell_type": "markdown",
            "metadata": {},
            "source": [
                "#### Step Two: Analyze Data and Present Insights\n",
                "You should do this →\n",
                "- Provide detailed analysis of the specified biotech stocks\n",
                "- Connect financial metrics with biotech-specific catalysts for the mentioned companies\n",
                "- Explain how regulatory pathways impact the valuation of the specified stocks\n",
                "- Present visualizations showing relevant trends for the mentioned companies\n",
                "- When multiple companies are specified, provide comparative analysis"
            ]
        },
        {
            "cell_type": "markdown",
            "metadata": {},
            "source": [
                "## Data Sources Used:\n",
                "\n",
                "- **Financial Data**: Yahoo Finance API via yfinance package\n",
                "- **News & Catalysts**: Google Custom Search API with biotech-focused queries\n",
                "- **Analysis**: OpenAI's language models for interpretation and insight generation\n",
                "- **Visualization**: Custom Plotly charts generated based on specific user questions"
            ]
        },
        {
            "cell_type": "markdown",
            "metadata": {},
            "source": [
                "---\n",
                "\n",
                "*Note: BioEquity Insight requires users to specify company names or ticker symbols in their queries. For general biotech sector research, please frame your question with specific company examples.*"
            ]
        }
    ],
    "metadata": {
        "kernelspec": {
            "display_name": "Python 3",
            "language": "python",
            "name": "python3"
        },
        "language_info": {
            "codemirror_mode": {
                "name": "ipython",
                "version": 3
            },
            "file_extension": ".py",
            "mimetype": "text/x-python",
            "name": "python",
            "nbconvert_exporter": "python",
            "pygments_lexer": "ipython3",
            "version": "3.10"
        }
    },
    "nbformat": 4,
    "nbformat_minor": 5
}
